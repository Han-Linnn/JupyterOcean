{
 "cells": [
  {
   "cell_type": "code",
   "execution_count": null,
   "id": "63af8987-3af9-4308-a47b-a1860df6dd5e",
   "metadata": {},
   "outputs": [],
   "source": [
    "def data_farming():\n",
    "    # On your asset, your DCV = DT_price * num_consumes\n",
    "    # Your asset gets rewards pro-rata for its DCV compared to other assets' DCVs.\n",
    "    DT_price = 100.0 # number of OCEAN needed to buy one datatoken\n",
    "    num_consumes = 3"
   ]
  }
 ],
 "metadata": {
  "kernelspec": {
   "display_name": "Python 3 (ipykernel)",
   "language": "python",
   "name": "python3"
  },
  "language_info": {
   "codemirror_mode": {
    "name": "ipython",
    "version": 3
   },
   "file_extension": ".py",
   "mimetype": "text/x-python",
   "name": "python",
   "nbconvert_exporter": "python",
   "pygments_lexer": "ipython3",
   "version": "3.9.17"
  }
 },
 "nbformat": 4,
 "nbformat_minor": 5
}
