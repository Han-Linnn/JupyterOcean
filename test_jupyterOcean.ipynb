{
 "cells": [
  {
   "cell_type": "code",
   "execution_count": 1,
   "id": "78d06ddc-158b-407a-933f-5805bb20a02a",
   "metadata": {
    "tags": []
   },
   "outputs": [],
   "source": [
    "from jupyterOcean import JupyterFrontEnd"
   ]
  },
  {
   "cell_type": "code",
   "execution_count": 2,
   "id": "8bab6e43-c9cc-4554-b01c-b81eee758823",
   "metadata": {},
   "outputs": [],
   "source": [
    "app = JupyterFrontEnd()"
   ]
  },
  {
   "cell_type": "code",
   "execution_count": 4,
   "id": "a1730903-057e-4117-b095-8d1eea982ebb",
   "metadata": {
    "tags": []
   },
   "outputs": [
    {
     "name": "stdout",
     "output_type": "stream",
     "text": [
      "------------------------------------------\n",
      "Converting notebook into Python script ...\n",
      " \n",
      "Convert finished ! \n",
      "------------------------------------------\n"
     ]
    }
   ],
   "source": [
    "app.ocean.convert('notebook1.ipynb')"
   ]
  },
  {
   "cell_type": "code",
   "execution_count": 3,
   "id": "a96c96a0-7e13-45f6-a752-5aac1c9caf91",
   "metadata": {
    "tags": []
   },
   "outputs": [],
   "source": [
    "app.commands.execute('connect_wallet')"
   ]
  },
  {
   "cell_type": "code",
   "execution_count": 5,
   "id": "4534d938-88ff-4b7e-a0f6-9307f989d82e",
   "metadata": {
    "tags": []
   },
   "outputs": [],
   "source": [
    "app.commands.execute('send_ocean')"
   ]
  },
  {
   "cell_type": "code",
   "execution_count": 4,
   "id": "92a90e6f-afce-415f-a964-f1fde14d1598",
   "metadata": {
    "tags": []
   },
   "outputs": [
    {
     "name": "stdout",
     "output_type": "stream",
     "text": [
      "Vitual Wallet Address = '0x1c5C537dadA39778799433C76b40A80748c3Bfc6'\n",
      "My Wallet Address = '0xd0Ca75fbD9456fF1ce06701D5001811FC4dA6DC3'\n",
      "My Wallet OCEAN = 952984000000000000000\n",
      "My Wallet ETH = 184070947629906066\n",
      "Vitual Wallet OCEAN = 0\n",
      "Vitual Wallet ETH = 0\n"
     ]
    }
   ],
   "source": [
    "app.ocean.check_wallet()"
   ]
  },
  {
   "cell_type": "markdown",
   "id": "7e5357b0-93ba-4d61-860c-1f62fc333a10",
   "metadata": {},
   "source": [
    "# Download flow (Update on 10.22)\n",
    "\n",
    "### `buy_dt_download()` and `buy_at_download()`"
   ]
  },
  {
   "cell_type": "code",
   "execution_count": null,
   "id": "f100f3d1-5765-4d29-9235-2adfde8b7283",
   "metadata": {},
   "outputs": [],
   "source": [
    "## buy datatoken and download asset\n",
    "app.ocean.buy_dt_download('did:op:52827f38addfeedb27c0d9b5f1d4bf6cc6b8366b0abc642c199eef354a5113f0')\n"
   ]
  },
  {
   "cell_type": "code",
   "execution_count": null,
   "id": "d1687bc5-a5f6-46cc-ac3e-862805321323",
   "metadata": {},
   "outputs": [
    {
     "name": "stdout",
     "output_type": "stream",
     "text": [
      "Executing Transaction\n",
      "Environment Wallet Address = '<eth_account.signers.local.LocalAccount object at 0x7fc3e791c550>'\n",
      "Wallet OCEAN = 897988000000000000000\n",
      "Wallet ETH = 488051854768772909\n",
      "exchange = '<ocean_lib.models.fixed_rate_exchange.OneExchange object at 0x7fc3e8d77f40>'\n",
      "Buying Data Token...\n"
     ]
    },
    {
     "name": "stderr",
     "output_type": "stream",
     "text": [
      "INFO:ocean_lib.data_provider.data_service_provider:Service initialized successfully initializeEndpoint https://v4.provider.mumbai.oceanprotocol.com/api/services/initialize\n"
     ]
    }
   ],
   "source": [
    "## buy algorithm token and downlaod asset\n",
    "app.ocean.buy_at_download('did:op:b576ec84d454dc577d79c205a8d81f66f0389b2dfeff6d8b49cc50205e04d35d')\n"
   ]
  },
  {
   "cell_type": "code",
   "execution_count": 4,
   "id": "7d8d9b20-6542-4d1e-a973-08b063898272",
   "metadata": {},
   "outputs": [
    {
     "name": "stdout",
     "output_type": "stream",
     "text": [
      "Executing Transaction\n",
      "Environment Wallet Address = '<eth_account.signers.local.LocalAccount object at 0x7fa813b7ae50>'\n",
      "Wallet OCEAN = 896987000000000000000\n",
      "Wallet ETH = 487315530761700773\n",
      "Buying Data Token...\n"
     ]
    },
    {
     "name": "stderr",
     "output_type": "stream",
     "text": [
      "INFO:ocean_lib.data_provider.data_service_provider:Service initialized successfully initializeEndpoint https://v4.provider.mumbai.oceanprotocol.com/api/services/initialize\n"
     ]
    },
    {
     "name": "stdout",
     "output_type": "stream",
     "text": [
      "Now I have datatoken: (0, 'BILPOR-94').\n",
      "Downloading data asset...\n"
     ]
    },
    {
     "name": "stderr",
     "output_type": "stream",
     "text": [
      "INFO:ocean_lib.data_provider.fileinfo_provider:Retrieved asset files successfully FileInfoEndpoint https://v4.provider.mumbai.oceanprotocol.com/api/services/fileinfo from did did:op:8888c59f4bf2716073d35f5b01a2b8cb3b792d20b67cf3d515a538fb48e82fae with service id 793c3e44caab5c0188d202b9fbc128d0d7dd49e65291dd74d09c934c3ce7d8d7\n"
     ]
    },
    {
     "name": "stdout",
     "output_type": "stream",
     "text": [
      "signing message with nonce 2: did:op:8888c59f4bf2716073d35f5b01a2b8cb3b792d20b67cf3d515a538fb48e82fae, account=0xFEeA4195D66A95d44A857216e6fa51F9BE01d657\n"
     ]
    },
    {
     "name": "stderr",
     "output_type": "stream",
     "text": [
      "INFO:ocean_lib.data_provider.base:Saved downloaded file in ./datafile.did:op:8888c59f4bf2716073d35f5b01a2b8cb3b792d20b67cf3d515a538fb48e82fae,0/file0\n",
      "INFO:ocean_lib.data_provider.data_service_provider:DDO downloaded successfully downloadEndpoint https://v4.provider.mumbai.oceanprotocol.com/api/services/download\n"
     ]
    },
    {
     "name": "stdout",
     "output_type": "stream",
     "text": [
      "file_name = './datafile.did:op:8888c59f4bf2716073d35f5b01a2b8cb3b792d20b67cf3d515a538fb48e82fae,0/file0'\n"
     ]
    }
   ],
   "source": [
    "## buy datatoken and download asset\n",
    "app.ocean.buy_dt_download('did:op:8888c59f4bf2716073d35f5b01a2b8cb3b792d20b67cf3d515a538fb48e82fae')"
   ]
  },
  {
   "cell_type": "code",
   "execution_count": 3,
   "id": "4fee6a42-9181-413e-abc1-a88b2c13e48e",
   "metadata": {},
   "outputs": [
    {
     "name": "stdout",
     "output_type": "stream",
     "text": [
      "Not enough algorithm & data tokens in wallet, buying...\n",
      "=======================================================\n",
      "c2d_env::: [{'consumerAddress': '0x3db8d2AEf9A1d1584adD1aDDfb7728fe64d18c3F', 'cpuNumber': 1, 'cpuType': '', 'currentJobs': 0, 'desc': '', 'diskGB': 1, 'feeToken': '0xd8992Ed72C445c35Cb4A2be468568Ed1079357c8', 'gpuNumber': 0, 'gpuType': '', 'id': 'c2d-op-engine-dev', 'lastSeen': '1695119278.318003', 'maxJobDuration': 60, 'maxJobs': 10, 'priceMin': 0, 'ramGB': 1, 'storageExpiry': 0}]\n",
      "c2d_env ====== ::: 0x3db8d2AEf9A1d1584adD1aDDfb7728fe64d18c3F\n",
      "Retrieving provider fee...\n"
     ]
    },
    {
     "name": "stderr",
     "output_type": "stream",
     "text": [
      "INFO:ocean_lib.data_provider.data_service_provider:Service initialized successfully initializeComputeEndpoint https://v4.provider.oceanprotocol.io/api/services/initializeCompute\n"
     ]
    },
    {
     "name": "stdout",
     "output_type": "stream",
     "text": [
      "datasets =====> {'providerData': '0x7b22656e7669726f6e6d656e74223a226332642d6f702d656e67696e652d646576222c2274696d657374616d70223a313639353131393238352e34393534342c226474223a22307830333839454464346434374536364431374442333837416232643865373137454642316162453538222c226964223a2230303330386232646631653139643164623061613833633430363031333839353466373364343431333933663163663638363863366665623138633463386165227d', 'providerFeeAddress': '0x4256Df50c94D9a7e04610976cde01aED91eB531E', 'providerFeeAmount': '0', 'providerFeeToken': '0xd8992Ed72C445c35Cb4A2be468568Ed1079357c8', 'r': '0x5c3b484e3fc51b9cd915d4d1811127867bb501a33a05d0be2c6218ef13fe38e4', 's': '0x4a7050dc1c1aeac5952ab559fc1343ee012f09cd03e17ecea450840b6e6b68b5', 'v': 27, 'validUntil': 1695205682}.\n",
      "algorithm ====> {'providerData': '0x7b22656e7669726f6e6d656e74223a226332642d6f702d656e67696e652d646576222c2274696d657374616d70223a313639353131393238352e35343034392c226474223a22307862303263323131336530313939306434323963634531663534654630364533383441333935323632222c226964223a2236323733343336666434633364636438363665386433326237373663646537373138343066383761303234653761313163626534613831623165326235393961227d', 'providerFeeAddress': '0x4256Df50c94D9a7e04610976cde01aED91eB531E', 'providerFeeAmount': '0', 'providerFeeToken': '0xd8992Ed72C445c35Cb4A2be468568Ed1079357c8', 'r': '0x2f5dec6ecb87b596924e59db8e0ceb272aa419e7526ebc2fa69afbca4fdd98b7', 's': '0x08f0e9a021789645dc60741ed275b23ac27be6d089d0db214ac9dfe6eb18c0f5', 'v': 27, 'validUntil': 1695205682}.\n",
      "Executing Transaction...\n",
      " \n",
      "Buying datatoken...\n",
      "===================\n",
      "Buying algorithm token...\n",
      "=========================\n",
      "Already bought datatoken ==> BILLOB-91.\n",
      "Already bought algorithm token ==> TURKRI-98.\n",
      " \n",
      "Starting compute job...\n"
     ]
    },
    {
     "name": "stderr",
     "output_type": "stream",
     "text": [
      "INFO:ocean_lib.data_provider.data_service_provider:invoke start compute endpoint with this url: {'dataset': {'documentId': 'did:op:7143cd5b9d8dfa14dbc46cda4c77bb526a667a3868ec9494897e21aa99340cdb', 'serviceId': '00308b2df1e19d1db0aa83c4060138954f73d441393f1cf6868c6feb18c4c8ae', 'transferTxId': '0x2fa54a82786d2663a85491e6fc734db01f6fc9190060c42eed8b951a9552484e'}, 'environment': 'c2d-op-engine-dev', 'algorithm': {'documentId': 'did:op:05a02065c2ac1255719bc002f4d89302b97216dcb17c8a6e658ceac1fe1bdbc9', 'serviceId': '6273436fd4c3dcd866e8d32b776cde771840f87a024e7a11cbe4a81b1e2b599a', 'transferTxId': '0x68a9b9f8cd60e82978eef38f276e0157acd8cf123b72cfa363d3065ab1d10f22'}, 'signature': '0xb254ee98ecb29a9d7abe5222967e314b49eeb601afc3f723096114fba0545a0e43ec22d31242aecce6a5ca9d103c1232a06af8a489486b9f1982d2ea442b84a600', 'nonce': '1695119356926.7969', 'consumerAddress': '0x0523d416B8f7d2b7704ec71Ff2E2E3851a9c77C8', 'additionalInputs': []}\n"
     ]
    },
    {
     "name": "stdout",
     "output_type": "stream",
     "text": [
      "signing message with nonce 1695119356926.7969: 0x0523d416B8f7d2b7704ec71Ff2E2E3851a9c77C8did:op:7143cd5b9d8dfa14dbc46cda4c77bb526a667a3868ec9494897e21aa99340cdb, account=0x0523d416B8f7d2b7704ec71Ff2E2E3851a9c77C8\n",
      " \n",
      "Your job started successfully! Started compute job with id: ed1f718c28db4f60a8a023952d2aeb9c\n",
      " \n",
      "Runing compute job, this might take a while..., check status every 20 sec.\n",
      "--- Checking running status for 1 time ---\n"
     ]
    },
    {
     "name": "stderr",
     "output_type": "stream",
     "text": [
      "INFO:ocean_lib.data_provider.data_service_provider:invoke compute endpoint with this url: https://v4.provider.oceanprotocol.io/api/services/compute?consumerAddress=0x0523d416B8f7d2b7704ec71Ff2E2E3851a9c77C8&documentId=did%3Aop%3A7143cd5b9d8dfa14dbc46cda4c77bb526a667a3868ec9494897e21aa99340cdb&jobId=ed1f718c28db4f60a8a023952d2aeb9c&nonce=1695119363058.6619&signature=0x0b3f6c7a30ebb8e9e097bd9d5b04a02f2beaf9f38cd56d85b925c75b90afc79a41ca8a138d88667ca1724f91f7913b39ad6d150d8334d49435747f08620ebb8c00\n"
     ]
    },
    {
     "name": "stdout",
     "output_type": "stream",
     "text": [
      "signing message with nonce 1695119363058.6619: 0x0523d416B8f7d2b7704ec71Ff2E2E3851a9c77C8ed1f718c28db4f60a8a023952d2aeb9cdid:op:7143cd5b9d8dfa14dbc46cda4c77bb526a667a3868ec9494897e21aa99340cdb, account=0x0523d416B8f7d2b7704ec71Ff2E2E3851a9c77C8\n",
      "Still running.\n",
      " \n",
      "--- Checking running status for 2 time ---\n"
     ]
    },
    {
     "name": "stderr",
     "output_type": "stream",
     "text": [
      "INFO:ocean_lib.data_provider.data_service_provider:invoke compute endpoint with this url: https://v4.provider.oceanprotocol.io/api/services/compute?consumerAddress=0x0523d416B8f7d2b7704ec71Ff2E2E3851a9c77C8&documentId=did%3Aop%3A7143cd5b9d8dfa14dbc46cda4c77bb526a667a3868ec9494897e21aa99340cdb&jobId=ed1f718c28db4f60a8a023952d2aeb9c&nonce=1695119385182.961&signature=0x5788faee7594608a168a9c709c693e9211d8bea77028bb3367b45df3bb6a77fc56111ac7d6a0469c75caf044137739fa565a7ede01ed213d1450f2a2df6d28d800\n"
     ]
    },
    {
     "name": "stdout",
     "output_type": "stream",
     "text": [
      "signing message with nonce 1695119385182.961: 0x0523d416B8f7d2b7704ec71Ff2E2E3851a9c77C8ed1f718c28db4f60a8a023952d2aeb9cdid:op:7143cd5b9d8dfa14dbc46cda4c77bb526a667a3868ec9494897e21aa99340cdb, account=0x0523d416B8f7d2b7704ec71Ff2E2E3851a9c77C8\n",
      "Still running.\n",
      " \n",
      "--- Checking running status for 3 time ---\n"
     ]
    },
    {
     "name": "stderr",
     "output_type": "stream",
     "text": [
      "INFO:ocean_lib.data_provider.data_service_provider:invoke compute endpoint with this url: https://v4.provider.oceanprotocol.io/api/services/compute?consumerAddress=0x0523d416B8f7d2b7704ec71Ff2E2E3851a9c77C8&documentId=did%3Aop%3A7143cd5b9d8dfa14dbc46cda4c77bb526a667a3868ec9494897e21aa99340cdb&jobId=ed1f718c28db4f60a8a023952d2aeb9c&nonce=1695119407405.424&signature=0x496c0cd100bf31f8862ffcb9b34fb911bb14a57d6eb114c1c267ea6fae0f6d8f2b868c3dc3789bf42848d5d7b947e0a8564f77348e204e0c5d45da1d1ac9fd3000\n"
     ]
    },
    {
     "name": "stdout",
     "output_type": "stream",
     "text": [
      "signing message with nonce 1695119407405.424: 0x0523d416B8f7d2b7704ec71Ff2E2E3851a9c77C8ed1f718c28db4f60a8a023952d2aeb9cdid:op:7143cd5b9d8dfa14dbc46cda4c77bb526a667a3868ec9494897e21aa99340cdb, account=0x0523d416B8f7d2b7704ec71Ff2E2E3851a9c77C8\n",
      "Done! C2D successful.\n"
     ]
    },
    {
     "name": "stderr",
     "output_type": "stream",
     "text": [
      "INFO:ocean_lib.data_provider.data_service_provider:invoke compute endpoint with this url: https://v4.provider.oceanprotocol.io/api/services/compute?consumerAddress=0x0523d416B8f7d2b7704ec71Ff2E2E3851a9c77C8&documentId=did%3Aop%3A7143cd5b9d8dfa14dbc46cda4c77bb526a667a3868ec9494897e21aa99340cdb&jobId=ed1f718c28db4f60a8a023952d2aeb9c&nonce=1695119409754.536&signature=0x5b185b83ac6d272af2cd25ce2ba3081f35a1920939135496672996f3cc4a5bba774fafea071f771ff2ab4eed23607fc065accf5474a4d58817a440ed81f2787800\n"
     ]
    },
    {
     "name": "stdout",
     "output_type": "stream",
     "text": [
      "signing message with nonce 1695119409754.536: 0x0523d416B8f7d2b7704ec71Ff2E2E3851a9c77C8ed1f718c28db4f60a8a023952d2aeb9cdid:op:7143cd5b9d8dfa14dbc46cda4c77bb526a667a3868ec9494897e21aa99340cdb, account=0x0523d416B8f7d2b7704ec71Ff2E2E3851a9c77C8\n",
      "signing message with nonce 1695119410324.059: 0x0523d416B8f7d2b7704ec71Ff2E2E3851a9c77C8ed1f718c28db4f60a8a023952d2aeb9c0, account=0x0523d416B8f7d2b7704ec71Ff2E2E3851a9c77C8\n"
     ]
    },
    {
     "name": "stderr",
     "output_type": "stream",
     "text": [
      "INFO:ocean_lib.data_provider.data_service_provider:invoke the computeResult endpoint with this url: https://v4.provider.oceanprotocol.io/api/services/computeResult?signature=0xb6e7ecddfe80b21d2afc23c6f9cf61a1b817ac8d91e151e6b768662fca52462018ce61d99afbe066137671fe5dd3b1ad1ff0ffdba3d3c22f0245a9143f947ff400&nonce=1695119410324.059&jobId=ed1f718c28db4f60a8a023952d2aeb9c&index=0&consumerAddress=0x0523d416B8f7d2b7704ec71Ff2E2E3851a9c77C8\n"
     ]
    },
    {
     "name": "stdout",
     "output_type": "stream",
     "text": [
      "signing message with nonce 1695119412596.0542: 0x0523d416B8f7d2b7704ec71Ff2E2E3851a9c77C8ed1f718c28db4f60a8a023952d2aeb9c1, account=0x0523d416B8f7d2b7704ec71Ff2E2E3851a9c77C8\n"
     ]
    },
    {
     "name": "stderr",
     "output_type": "stream",
     "text": [
      "INFO:ocean_lib.data_provider.data_service_provider:invoke the computeResult endpoint with this url: https://v4.provider.oceanprotocol.io/api/services/computeResult?signature=0x8210825314097a2c249ac131dc8fdbe3362ae90d64b4f5ef7a7e9115fa85269516a0a6fbb172c5f09aae3785647fc90411cf2fea542893f1f02e80cf5eb2754701&nonce=1695119412596.0542&jobId=ed1f718c28db4f60a8a023952d2aeb9c&index=1&consumerAddress=0x0523d416B8f7d2b7704ec71Ff2E2E3851a9c77C8\n"
     ]
    },
    {
     "name": "stdout",
     "output_type": "stream",
     "text": [
      "signing message with nonce 1695119415407.6199: 0x0523d416B8f7d2b7704ec71Ff2E2E3851a9c77C8ed1f718c28db4f60a8a023952d2aeb9c2, account=0x0523d416B8f7d2b7704ec71Ff2E2E3851a9c77C8\n"
     ]
    },
    {
     "name": "stderr",
     "output_type": "stream",
     "text": [
      "INFO:ocean_lib.data_provider.data_service_provider:invoke the computeResult endpoint with this url: https://v4.provider.oceanprotocol.io/api/services/computeResult?signature=0x2fcb5664f4297bd173bff34e9327301c0b11b73edb4ca74aa9f146d6fedeb545561bb79a927c8178ba211598b9ff21bb19622f4e26acb6f7bb4948400e87c2bd01&nonce=1695119415407.6199&jobId=ed1f718c28db4f60a8a023952d2aeb9c&index=2&consumerAddress=0x0523d416B8f7d2b7704ec71Ff2E2E3851a9c77C8\n"
     ]
    },
    {
     "name": "stdout",
     "output_type": "stream",
     "text": [
      " \n",
      "Compute job log ==> []\n"
     ]
    }
   ],
   "source": [
    "### 这个dataset在UI上运行是没有问题的 --> https://market.oceanprotocol.com/asset/did:op:7143cd5b9d8dfa14dbc46cda4c77bb526a667a3868ec9494897e21aa99340cdb\n",
    "app.ocean.c2d('did:op:7143cd5b9d8dfa14dbc46cda4c77bb526a667a3868ec9494897e21aa99340cdb', 'did:op:05a02065c2ac1255719bc002f4d89302b97216dcb17c8a6e658ceac1fe1bdbc9')"
   ]
  },
  {
   "cell_type": "markdown",
   "id": "c45585d8-3faf-471b-8055-5eac8fc3a5b0",
   "metadata": {
    "tags": []
   },
   "source": [
    "# C2D flow (Update on 10.22)\n",
    "\n",
    "### `dt_publish()` and `algo_publish()` —> `add_trusted_algo()` —> `c2d()` -> TODO(`data_farming()`)"
   ]
  },
  {
   "cell_type": "code",
   "execution_count": 3,
   "id": "d2e9d8ee-7a62-463a-a49a-8df0b18b4e2a",
   "metadata": {},
   "outputs": [
    {
     "name": "stdout",
     "output_type": "stream",
     "text": [
      "Publishing algorithm asset on Ocean Market ...\n",
      "==============================================\n"
     ]
    },
    {
     "name": "stderr",
     "output_type": "stream",
     "text": [
      "INFO:ocean_lib.data_provider.data_encryptor:Asset urls encrypted successfully, encrypted urls str: 0x04a599dcee94a15f9bf0c2cbe90beca41f59176cc402d06622821d099407f755c43e6dd25459cbfa492193c46f245332f838c184883b525424fb43bf1ed00e3a7a34bf18e2a7c299e9e25b7f20046ffd2d3103caed76828352e88befe48a72dc872901a708f4e7d980b3f4afd2410d3082cb6fe024104fb577a6362316544560dcf9f632b5c84b45888637e9b62f6764fa1cbb0514358000f340d3ffa1d7d46ccc4b33488cec55437c27374211b1390b6ea2958315fd98d6169d6f79194ae72969bae5f1c3c2c986947db96a1c4647d45ef8f57ef662664614d5598d04f28acb48250f9913804ae4be62fc346f970fdd271f2a045447ee02dbf7b38cb8dde0ee789304b22369d09728dee8d52ecea95d1df306e0b38037f656e42ed7d23e8d442fd5a6cfd4b4cc3bfa40aaec908738bc2046cf5f57b57b6c2ee481897ee2c45d0c08617128db5942704bf9898f70cc89, encryptedEndpoint https://v4.provider.mumbai.oceanprotocol.com/api/services/encrypt?chainId=80001\n",
      "INFO:ocean_lib.data_provider.data_encryptor:Asset urls encrypted successfully, encrypted urls str: 0x0442529bc5c3f0fe523fcf2062d6e0d0ac1d1ccf05fc2ecf5343d9fda6ebaf8315ce2462318ee01fc40fc7e7144e41dd21dd0154ac14a1e987a7d0f5dbbd0bc9e04de8056b459a54f618fd77896a62b155638569a47b0b4524571f2a4071776e22c0f5b7b4c2b3cff72ea078c2fd7fddbbcb249e28b2e272058192ef27783c6ac887fdc0303ba8240271a581ee85620344949206c6c69d9ec57c75fe9ba5bc5e1bdecf31cdf4f25fb2ef397849f230887c92235ef09e60e87bc4863a2067ef3df59d865eb63b322f83bf54051951844654482c90e9073a6ed04d01d9625ff86ea4a647681b74de3341624e993c5cafc24f4032af10995fb1bdb7144bad51d9f341e4ca3b301c5556ca012b666534a1265fe9ec5b4d352f4f1cd12435433a63a770fdc28c7daea05d94cbe95c52c225585dbd999392a79bd6328a65057ff71b9a23becd195cb362d430a37ee15986e4e8, encryptedEndpoint https://v4.provider.mumbai.oceanprotocol.com/api/services/encrypt?chainId=80001\n",
      "INFO:ocean_lib.data_provider.data_encryptor:Asset urls encrypted successfully, encrypted urls str: 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, encryptedEndpoint https://v4.provider.mumbai.oceanprotocol.com/api/services/encrypt?chainId=80001\n"
     ]
    },
    {
     "name": "stdout",
     "output_type": "stream",
     "text": [
      "ALGO_data_nft address = '0x17B6A835C58A70D93AAD081fFE3332B7041C41BE'\n",
      "ALGO_datatoken address = '0xC715ac2eed3a18d9bAfcd9E2D60BA0C2206e8BD5'\n",
      " \n",
      "=======================================================\n",
      "Publish finished! Here is the decentralized identifier:\n",
      "did:op:1e674fac30d3bb074322846cd4dfed9d7b6bb66a9076acc22b772f2304bef9cf\n",
      "=======================================================\n"
     ]
    }
   ],
   "source": [
    "## Step 1\n",
    "## test publish for c2d\n",
    "app.ocean.algo_publish('QmZNAKfa5Ya7MHZkjqxHuCcBL1m79gCTDRYZkXbhcSsJ1e')"
   ]
  },
  {
   "cell_type": "code",
   "execution_count": 4,
   "id": "dd1ed6f7-8d81-481e-9d4d-9d423fa9f6ca",
   "metadata": {},
   "outputs": [
    {
     "name": "stdout",
     "output_type": "stream",
     "text": [
      "Publishing data asset on Ocean Market ...\n",
      "=========================================\n"
     ]
    },
    {
     "name": "stderr",
     "output_type": "stream",
     "text": [
      "INFO:ocean_lib.data_provider.data_encryptor:Asset urls encrypted successfully, encrypted urls str: 0x049c806c9939e01a2622ee3b18713c2b0e6843699254e85a443e034469d7ef637420c3973c119f83236b85be9838b4749c7ae159de6ffb6eb61145856237b374c69bc20cab25e73b91a29bb7ff74a8718ae8d6566fd9f31d39a58697932663b5961924592e9d514e737b414f631b9b3029cde37b7fb47fe746f9334c99cf537b7040bda9a9917f1fd90cf84ed7b84029d26400560a8fea474d58b083d1f075514a696391410525fd45b7bf8b265ec4cb7d3aee104d5e7a88630571c24fa9164420054432457838d8b6578d7267603d02e5654640f4e732de81d4afe366a8bddc4f72b0d658ad160d8a2eec2cbdf2f6f383e86fc28c3bb0e1b4bca1bc4172349144425f61992374c9245bc11cd543dc4da4be097b6f83bd8b5c96330dec5c9d3c4f65876ef78819b811b33d04de0ae50be61377fae36777c184e33a37c2c6865bef262c18ef1930e83357c2be6d31bf91, encryptedEndpoint https://v4.provider.mumbai.oceanprotocol.com/api/services/encrypt?chainId=80001\n",
      "INFO:ocean_lib.data_provider.data_encryptor:Asset urls encrypted successfully, encrypted urls str: 0x048ccffafbbd8d43377ff3bdcdc81ca4ac95c27f2f0e51735993991cb5233637e0aed9f545fac1dde89309c4b06f86215b43d7ca459969a5131144ac385bad8f343e0b427e8473cd58ac8b0eb57643ca007be5e25d6abc08a9fb4969eccc41f14380cac66fc59ad1a345cc925977b2228517400ab8f1cd5a3a253649a5c00f5328d4a42d3c9fd900ca2f9b8b16360fb9e4b918948489b8a77d95370631b89fa0c835eda893e9cfa3f4c2d7c4aaf79676baf8b5211b2eaadf0f3de99383d4a91b20fe71764c29d4f48d858993457e02b12bc8ef36c9a5b9e2ba49974ec135a71b53ad0d8960387116fe62e92adf6d59026086d6d3fce456b191ab90736695e3771118dfbc74f0d1174eb35b7e48c269532484f2199c76468ef9456e0ea7c636639b4703f86120878e07827c6b2fd81020631b2a0ec3054837e665ee62d25862250dbf13df8f27ecd27565b2f1eca6ea17, encryptedEndpoint https://v4.provider.mumbai.oceanprotocol.com/api/services/encrypt?chainId=80001\n",
      "INFO:ocean_lib.data_provider.data_encryptor:Asset urls encrypted successfully, encrypted urls str: 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, encryptedEndpoint https://v4.provider.mumbai.oceanprotocol.com/api/services/encrypt?chainId=80001\n"
     ]
    },
    {
     "name": "stdout",
     "output_type": "stream",
     "text": [
      "DT_data_nft address = '0xaf5E5bC9f1f24dC5c1EF1301e2846A3BdD7Dc92E'\n",
      "DT_datatoken address = '0x9b724A87929Bde77441C08b11b0b3b2d300E10b1'\n",
      " \n",
      "========================================================\n",
      "Publish finished! Here is the decentralized identifier(DID):\n",
      "did:op:25decf44cdc3a27405b02e26a7ae824d9e7950ec8f9c05172b2bbf3176c623eb\n",
      "========================================================\n"
     ]
    }
   ],
   "source": [
    "## Step 2\n",
    "## test publish for c2d\n",
    "app.ocean.dt_publish('QmVifBZJbEcrqGwwY3Hy64QYNoJkSyeSJK71wcTHQZ6tQo')"
   ]
  },
  {
   "cell_type": "code",
   "execution_count": 5,
   "id": "62a29c12-f859-4d73-9434-9fa4b090e1a2",
   "metadata": {
    "tags": []
   },
   "outputs": [
    {
     "name": "stderr",
     "output_type": "stream",
     "text": [
      "INFO:ocean_lib.data_provider.fileinfo_provider:Retrieved asset files successfully FileInfoEndpoint https://v4.provider.mumbai.oceanprotocol.com/api/services/fileinfo from did did:op:1e674fac30d3bb074322846cd4dfed9d7b6bb66a9076acc22b772f2304bef9cf with service id 0\n",
      "INFO:ocean_lib.data_provider.data_encryptor:Asset urls encrypted successfully, encrypted urls str: 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, encryptedEndpoint https://v4.provider.mumbai.oceanprotocol.com/api/services/encrypt?chainId=80001\n"
     ]
    },
    {
     "name": "stdout",
     "output_type": "stream",
     "text": [
      "Successfully added trusted algo to dataset ==> '<ocean_lib.assets.ddo.DDO object at 0x7fb316edafd0>'\n"
     ]
    },
    {
     "data": {
      "text/plain": [
       "<ocean_lib.assets.ddo.DDO at 0x7fb316edafd0>"
      ]
     },
     "execution_count": 5,
     "metadata": {},
     "output_type": "execute_result"
    }
   ],
   "source": [
    "## Step 3\n",
    "## add trust algo to dataset\n",
    "app.ocean.add_trusted_algo('did:op:25decf44cdc3a27405b02e26a7ae824d9e7950ec8f9c05172b2bbf3176c623eb', 'did:op:1e674fac30d3bb074322846cd4dfed9d7b6bb66a9076acc22b772f2304bef9cf')"
   ]
  },
  {
   "cell_type": "code",
   "execution_count": 5,
   "id": "09a8ce33-77e0-43ce-b6b9-1594a3e94690",
   "metadata": {
    "tags": []
   },
   "outputs": [
    {
     "name": "stdout",
     "output_type": "stream",
     "text": [
      "Buying datatoken .....\n",
      "======================\n",
      "Already bought datatoken ==> DT1.\n",
      " \n",
      "Buying algorithm token .....\n",
      "============================\n",
      "Already bought algorithm token ==> DT1.\n",
      " \n",
      "Finished buy DT.\n",
      " \n",
      "Paying for compute service ...\n",
      "==============================\n"
     ]
    },
    {
     "name": "stderr",
     "output_type": "stream",
     "text": [
      "INFO:ocean_lib.data_provider.data_service_provider:Service initialized successfully initializeComputeEndpoint https://v4.provider.mumbai.oceanprotocol.com/api/services/initializeCompute\n"
     ]
    },
    {
     "name": "stdout",
     "output_type": "stream",
     "text": [
      " \n",
      "Starting the compute job ...\n",
      "============================\n"
     ]
    },
    {
     "name": "stderr",
     "output_type": "stream",
     "text": [
      "INFO:ocean_lib.data_provider.data_service_provider:invoke start compute endpoint with this url: {'dataset': {'documentId': 'did:op:030c288f377e627b9f230f3d2a0181efc8349eb32ee1436902e3714ff758e4da', 'serviceId': '1', 'transferTxId': '0xb66ec7d066e64cc697df9c9eaaa251b63419c3bee18918a633ab759506ed5a9e'}, 'environment': 'c2d-op-engine-dev', 'algorithm': {'documentId': 'did:op:b8471c8de1c043cc7018b92e74ff06989b278bc814cfad61265ec9d7fc028f3d', 'serviceId': '1', 'transferTxId': '0x8324b07b12ada47a0372be343b499d10654825a378e9469a7b78ba24c5bd9791'}, 'signature': '0x256db314e9f313e7bac3f2b37e6cfd477d820cdf9151e8efb2d0bf109f6e32650d7b90d9f5987777d2cbcf2b5968df500026661a7918ccbb6fe312a6799c42ad00', 'nonce': '1696830248605.302', 'consumerAddress': '0xd0Ca75fbD9456fF1ce06701D5001811FC4dA6DC3', 'additionalInputs': []}\n"
     ]
    },
    {
     "name": "stdout",
     "output_type": "stream",
     "text": [
      "signing message with nonce 1696830248605.302: 0xd0Ca75fbD9456fF1ce06701D5001811FC4dA6DC3did:op:030c288f377e627b9f230f3d2a0181efc8349eb32ee1436902e3714ff758e4da, account=0xd0Ca75fbD9456fF1ce06701D5001811FC4dA6DC3\n",
      "=====================================================================================\n",
      "Your job started successfully! Started compute job with id: 614f7d335cb14988b638e1f2805374db\n",
      "=====================================================================================\n",
      " \n",
      "Runing the compute job, this might take a while..., checking status every 20 sec.\n",
      "--- Checking running status for 1 time ---\n"
     ]
    },
    {
     "name": "stderr",
     "output_type": "stream",
     "text": [
      "INFO:ocean_lib.data_provider.data_service_provider:invoke compute endpoint with this url: https://v4.provider.mumbai.oceanprotocol.com/api/services/compute?consumerAddress=0xd0Ca75fbD9456fF1ce06701D5001811FC4dA6DC3&documentId=did%3Aop%3A030c288f377e627b9f230f3d2a0181efc8349eb32ee1436902e3714ff758e4da&jobId=614f7d335cb14988b638e1f2805374db&nonce=1696830255645.821&signature=0xefe8fe6dff73235b7245d73c3253c27b10f0085fb0e27ee62019f6eed8288fb00091a61362fbb53b4370ffb18ce9799667c02fb1bf7dcc9ffe5c2a96bb22e0ec00\n"
     ]
    },
    {
     "name": "stdout",
     "output_type": "stream",
     "text": [
      "signing message with nonce 1696830255645.821: 0xd0Ca75fbD9456fF1ce06701D5001811FC4dA6DC3614f7d335cb14988b638e1f2805374dbdid:op:030c288f377e627b9f230f3d2a0181efc8349eb32ee1436902e3714ff758e4da, account=0xd0Ca75fbD9456fF1ce06701D5001811FC4dA6DC3\n",
      " \n",
      "C2D Still running, waiting for next check ...\n",
      " \n",
      "--- Checking running status for 2 time ---\n"
     ]
    },
    {
     "name": "stderr",
     "output_type": "stream",
     "text": [
      "INFO:ocean_lib.data_provider.data_service_provider:invoke compute endpoint with this url: https://v4.provider.mumbai.oceanprotocol.com/api/services/compute?consumerAddress=0xd0Ca75fbD9456fF1ce06701D5001811FC4dA6DC3&documentId=did%3Aop%3A030c288f377e627b9f230f3d2a0181efc8349eb32ee1436902e3714ff758e4da&jobId=614f7d335cb14988b638e1f2805374db&nonce=1696830282908.3518&signature=0x976824294639dd7ba63fe4579199aaab0398806bd3d7975e987e23b8553455814dbf42967d164c1b331acca45ecd7ead24cc8cddf0f81e16f5d0c74a9d68370500\n"
     ]
    },
    {
     "name": "stdout",
     "output_type": "stream",
     "text": [
      "signing message with nonce 1696830282908.3518: 0xd0Ca75fbD9456fF1ce06701D5001811FC4dA6DC3614f7d335cb14988b638e1f2805374dbdid:op:030c288f377e627b9f230f3d2a0181efc8349eb32ee1436902e3714ff758e4da, account=0xd0Ca75fbD9456fF1ce06701D5001811FC4dA6DC3\n",
      " \n",
      "C2D Still running, waiting for next check ...\n",
      " \n",
      "--- Checking running status for 3 time ---\n"
     ]
    },
    {
     "name": "stderr",
     "output_type": "stream",
     "text": [
      "INFO:ocean_lib.data_provider.data_service_provider:invoke compute endpoint with this url: https://v4.provider.mumbai.oceanprotocol.com/api/services/compute?consumerAddress=0xd0Ca75fbD9456fF1ce06701D5001811FC4dA6DC3&documentId=did%3Aop%3A030c288f377e627b9f230f3d2a0181efc8349eb32ee1436902e3714ff758e4da&jobId=614f7d335cb14988b638e1f2805374db&nonce=1696830310458.524&signature=0xe5d0a0a07143a17f75af95ad2d2fa80de7e0f3d92dc7d16cd3c6c470672034d95f24fb4b551105b401d60d2ce78699f3df8d96608844bfc5ca63d1407c55515c00\n"
     ]
    },
    {
     "name": "stdout",
     "output_type": "stream",
     "text": [
      "signing message with nonce 1696830310458.524: 0xd0Ca75fbD9456fF1ce06701D5001811FC4dA6DC3614f7d335cb14988b638e1f2805374dbdid:op:030c288f377e627b9f230f3d2a0181efc8349eb32ee1436902e3714ff758e4da, account=0xd0Ca75fbD9456fF1ce06701D5001811FC4dA6DC3\n",
      " \n",
      "C2D Still running, waiting for next check ...\n",
      " \n",
      "--- Checking running status for 4 time ---\n"
     ]
    },
    {
     "name": "stderr",
     "output_type": "stream",
     "text": [
      "INFO:ocean_lib.data_provider.data_service_provider:invoke compute endpoint with this url: https://v4.provider.mumbai.oceanprotocol.com/api/services/compute?consumerAddress=0xd0Ca75fbD9456fF1ce06701D5001811FC4dA6DC3&documentId=did%3Aop%3A030c288f377e627b9f230f3d2a0181efc8349eb32ee1436902e3714ff758e4da&jobId=614f7d335cb14988b638e1f2805374db&nonce=1696830339785.748&signature=0xcd118bb98655495f0bc10109fd83c4fee89d30503234f41d747c0f38434a9c5c57055bd05bc6298e1fb594690c867100f5fbb8c127d337d62dac1a42853fea1700\n"
     ]
    },
    {
     "name": "stdout",
     "output_type": "stream",
     "text": [
      "signing message with nonce 1696830339785.748: 0xd0Ca75fbD9456fF1ce06701D5001811FC4dA6DC3614f7d335cb14988b638e1f2805374dbdid:op:030c288f377e627b9f230f3d2a0181efc8349eb32ee1436902e3714ff758e4da, account=0xd0Ca75fbD9456fF1ce06701D5001811FC4dA6DC3\n",
      " \n",
      "=====================\n",
      "Done! C2D successful.\n",
      "=====================\n"
     ]
    },
    {
     "name": "stderr",
     "output_type": "stream",
     "text": [
      "INFO:ocean_lib.data_provider.data_service_provider:invoke compute endpoint with this url: https://v4.provider.mumbai.oceanprotocol.com/api/services/compute?consumerAddress=0xd0Ca75fbD9456fF1ce06701D5001811FC4dA6DC3&documentId=did%3Aop%3A030c288f377e627b9f230f3d2a0181efc8349eb32ee1436902e3714ff758e4da&jobId=614f7d335cb14988b638e1f2805374db&nonce=1696830343023.887&signature=0x0557a4d52eb67396b3899c5ffe843d504cb98587096458ae67ab7567509d5fcf2a09aea91c268282e3d3658453a8091e37a189d0fc85f81d8eb10b7d31d810b500\n"
     ]
    },
    {
     "name": "stdout",
     "output_type": "stream",
     "text": [
      "signing message with nonce 1696830343023.887: 0xd0Ca75fbD9456fF1ce06701D5001811FC4dA6DC3614f7d335cb14988b638e1f2805374dbdid:op:030c288f377e627b9f230f3d2a0181efc8349eb32ee1436902e3714ff758e4da, account=0xd0Ca75fbD9456fF1ce06701D5001811FC4dA6DC3\n",
      "signing message with nonce 1696830343638.271: 0xd0Ca75fbD9456fF1ce06701D5001811FC4dA6DC3614f7d335cb14988b638e1f2805374db0, account=0xd0Ca75fbD9456fF1ce06701D5001811FC4dA6DC3\n"
     ]
    },
    {
     "name": "stderr",
     "output_type": "stream",
     "text": [
      "INFO:ocean_lib.data_provider.data_service_provider:invoke the computeResult endpoint with this url: https://v4.provider.mumbai.oceanprotocol.com/api/services/computeResult?signature=0x78f8219a68eba311a131ef59ecdd249e9a4396516ca0287493713975e3c5f09706d0030aa3add9d59ae7bcc22ddd1e9251cc0faad8dfb42df127b748f4474d7b00&nonce=1696830343638.271&jobId=614f7d335cb14988b638e1f2805374db&index=0&consumerAddress=0xd0Ca75fbD9456fF1ce06701D5001811FC4dA6DC3\n"
     ]
    },
    {
     "name": "stdout",
     "output_type": "stream",
     "text": [
      "signing message with nonce 1696830347284.905: 0xd0Ca75fbD9456fF1ce06701D5001811FC4dA6DC3614f7d335cb14988b638e1f2805374db1, account=0xd0Ca75fbD9456fF1ce06701D5001811FC4dA6DC3\n"
     ]
    },
    {
     "name": "stderr",
     "output_type": "stream",
     "text": [
      "INFO:ocean_lib.data_provider.data_service_provider:invoke the computeResult endpoint with this url: https://v4.provider.mumbai.oceanprotocol.com/api/services/computeResult?signature=0xbfbc84643c6a93aabe5d19d13f8a4bdd361381d4dfbd374600ece69f89f0820d370f8721413d9b2622a16af83d9b512ebb6aecbcc5441c3f4d74df84833c76af00&nonce=1696830347284.905&jobId=614f7d335cb14988b638e1f2805374db&index=1&consumerAddress=0xd0Ca75fbD9456fF1ce06701D5001811FC4dA6DC3\n"
     ]
    },
    {
     "name": "stdout",
     "output_type": "stream",
     "text": [
      "signing message with nonce 1696830349577.943: 0xd0Ca75fbD9456fF1ce06701D5001811FC4dA6DC3614f7d335cb14988b638e1f2805374db2, account=0xd0Ca75fbD9456fF1ce06701D5001811FC4dA6DC3\n"
     ]
    },
    {
     "name": "stderr",
     "output_type": "stream",
     "text": [
      "INFO:ocean_lib.data_provider.data_service_provider:invoke the computeResult endpoint with this url: https://v4.provider.mumbai.oceanprotocol.com/api/services/computeResult?signature=0x5d7b4e3b9a59a56b2c27c166eb8a90494cca84d554a483d3b2bb383fc224601240d9b685fb2516eb439e1763a77fbc7de49d960ba0710a145d5b3b0c192adce201&nonce=1696830349577.943&jobId=614f7d335cb14988b638e1f2805374db&index=2&consumerAddress=0xd0Ca75fbD9456fF1ce06701D5001811FC4dA6DC3\n"
     ]
    },
    {
     "name": "stdout",
     "output_type": "stream",
     "text": [
      "signing message with nonce 1696830351830.041: 0xd0Ca75fbD9456fF1ce06701D5001811FC4dA6DC3614f7d335cb14988b638e1f2805374db3, account=0xd0Ca75fbD9456fF1ce06701D5001811FC4dA6DC3\n"
     ]
    },
    {
     "name": "stderr",
     "output_type": "stream",
     "text": [
      "INFO:ocean_lib.data_provider.data_service_provider:invoke the computeResult endpoint with this url: https://v4.provider.mumbai.oceanprotocol.com/api/services/computeResult?signature=0x43928c6e769da5131e4f8dfabbe982d08882dd81ab647702432d8612bd1d8e5d1f855d32f6add6c17dc06f4536a82928cbcd51717b08084a77ab3f1ac0cc2dde01&nonce=1696830351830.041&jobId=614f7d335cb14988b638e1f2805374db&index=3&consumerAddress=0xd0Ca75fbD9456fF1ce06701D5001811FC4dA6DC3\n"
     ]
    },
    {
     "name": "stdout",
     "output_type": "stream",
     "text": [
      " \n",
      "Requesting the compute result ...\n",
      "=================================\n",
      "<class 'bytes'>\n",
      "========================================\n",
      "Model is download at ./c2d/614f7d335cb14988b638e1f2805374db.txt\n"
     ]
    }
   ],
   "source": [
    "## Step 4\n",
    "## run c2d\n",
    "app.ocean.temp_c2d('did:op:030c288f377e627b9f230f3d2a0181efc8349eb32ee1436902e3714ff758e4da', 'did:op:b8471c8de1c043cc7018b92e74ff06989b278bc814cfad61265ec9d7fc028f3d')\n"
   ]
  },
  {
   "cell_type": "code",
   "execution_count": 17,
   "id": "c7d122a4-e63e-41c3-8b59-5e9930182c9d",
   "metadata": {
    "tags": []
   },
   "outputs": [
    {
     "data": {
      "image/png": "[encoded data removed]",
      "text/plain": [
       "<Figure size 640x480 with 1 Axes>"
      ]
     },
     "metadata": {},
     "output_type": "display_data"
    }
   ],
   "source": [
    "## step 4\n",
    "## generate plot for C2D result model\n",
    "import numpy\n",
    "import pickle\n",
    "from matplotlib import pyplot\n",
    "\n",
    "with open('./c2d/614f7d335cb14988b638e1f2805374db.txt', 'rb') as file:\n",
    "    content = file.read()\n",
    "\n",
    "model = pickle.loads(content)\n",
    "X0_vec = numpy.linspace(-5., 10., 15)\n",
    "X1_vec = numpy.linspace(0., 15., 15)\n",
    "X0, X1 = numpy.meshgrid(X0_vec, X1_vec)\n",
    "b, c, t = 0.12918450914398066, 1.5915494309189535, 0.039788735772973836\n",
    "u = X1 - b * X0 ** 2 + c * X0 - 6\n",
    "r = 10. * (1. - t) * numpy.cos(X0) + 10\n",
    "Z = u ** 2 + r\n",
    "\n",
    "fig, ax = pyplot.subplots(subplot_kw={\"projection\": \"3d\"})\n",
    "ax.scatter(X0, X1, model, c=\"r\", label=\"model\")\n",
    "pyplot.title(\"Data + model\")\n",
    "pyplot.show()  \n",
    "# pyplot.savefig(\"test.png\")"
   ]
  },
  {
   "cell_type": "code",
   "execution_count": 3,
   "id": "083cf4d3-e01c-4a45-a0a4-51f8a7efc279",
   "metadata": {},
   "outputs": [
    {
     "name": "stdout",
     "output_type": "stream",
     "text": [
      "<ocean_lib.models.fixed_rate_exchange.OneExchange object at 0x7fc39d70c160>\n",
      "<ocean_lib.models.fixed_rate_exchange.OneExchange object at 0x7fc397bfc6d0>\n"
     ]
    }
   ],
   "source": [
    "## test\n",
    "## run c2d\n",
    "app.ocean.temp_c2d('did:op:030c288f377e627b9f230f3d2a0181efc8349eb32ee1436902e3714ff758e4da', 'did:op:b8471c8de1c043cc7018b92e74ff06989b278bc814cfad61265ec9d7fc028f3d')\n"
   ]
  },
  {
   "cell_type": "code",
   "execution_count": 14,
   "id": "08b7fdc9-f04d-4219-a529-7cdf5f2bb748",
   "metadata": {
    "tags": []
   },
   "outputs": [
    {
     "name": "stdout",
     "output_type": "stream",
     "text": [
      "[[308.12909997 206.1783     135.38669999  93.5886      69.13429999\n",
      "   48.6776      27.2812      10.3079       5.1273      11.28\n",
      "   19.3524      19.7343      12.1309       5.9167      10.9609    ]\n",
      " [272.447      176.7984     111.6735      74.9065      54.8479\n",
      "   38.1512      19.8791       5.3947       2.0674       9.4378\n",
      "   18.0925      18.4209      10.1286       2.5899       5.6739    ]\n",
      " [239.06079998 149.7145      90.25629999  58.5204      42.8573\n",
      "   29.9206      14.773        2.7775       1.3035       9.8916\n",
      "   19.1284      19.4035      10.4222       1.5589       2.6829    ]\n",
      " [207.97059999 124.9265      71.135       44.4302      33.1627\n",
      "   23.986       11.9628       2.4561       2.8354      12.6413\n",
      "   22.4603      22.682       13.0117       2.8239       1.9878    ]\n",
      " [179.17619999 102.4344      54.3096      32.636       25.764\n",
      "   20.3473      11.4485       4.4307       6.6633      17.6869\n",
      "   28.088       28.2563      17.8971       6.3848       3.5886    ]\n",
      " [152.67779999  82.2383      39.7801      23.1376      20.6612\n",
      "   19.0045      13.2301       8.7012      12.7871      25.0284\n",
      "   36.0118      36.1266      25.0785      12.2416       7.4853    ]\n",
      " [128.47529999  64.338       27.5466      15.9352      17.8543\n",
      "   19.9576      17.3077      15.2676      21.2068      34.6659\n",
      "   46.2314      46.2929      34.5557      20.3944      13.678     ]\n",
      " [106.5687      48.7337      17.6089      11.0287      17.3434\n",
      "   23.2066      23.6812      24.13        31.9225      46.5993\n",
      "   58.7469      58.755       46.3289      30.843       22.1665    ]\n",
      " [ 86.958       35.4253       9.9672       8.4181      19.1283\n",
      "   28.7516      32.3505      35.2882      44.934       60.8286\n",
      "   73.5584      73.5131      60.398       43.5876      32.951     ]\n",
      " [ 69.6433      24.4128       4.6214       8.1034      23.2092\n",
      "   36.5925      43.3159      48.7424      60.2415      77.3538\n",
      "   90.6657      90.567       76.763       58.6281      46.0314    ]\n",
      " [ 54.6244      15.6962       1.5715      10.0846      29.586\n",
      "   46.7293      56.5771      64.4925      77.8449      96.1749\n",
      "  110.069      109.9169      95.424       75.9645      61.4077    ]\n",
      " [ 41.9015       9.2755       0.8175      14.3618      38.2587\n",
      "   59.162       72.1342      82.5385      97.7442     117.2919\n",
      "  131.7682     131.5628     116.3808      95.5968      79.08      ]\n",
      " [ 31.4745       5.1508       2.3595      20.9349      49.2274\n",
      "   73.8906      89.9873     102.8804     119.9394     140.7049\n",
      "  155.76339999 155.5045     139.63359999 117.5251      99.04809999]\n",
      " [ 23.3435       3.322        6.1974      29.8039      62.4919\n",
      "   90.9152     110.1363     125.5183     144.4305     166.4138\n",
      "  182.0544     181.7421     165.1823     141.7492     121.3122    ]\n",
      " [ 17.5083       3.7891      12.3311      40.9688      78.0524\n",
      "  110.2356     132.58119999 150.45199999 171.21759999 194.41859999\n",
      "  210.64139999 210.27569999 193.02689999 168.2693     145.87219999]]\n"
     ]
    }
   ],
   "source": [
    "import numpy\n",
    "import pickle\n",
    "from matplotlib import pyplot\n",
    "with open('./c2d/504088e86c024d44909b41e46597fa14.pickle', \"rb\") as f2:\n",
    "    content = f2.read()\n",
    "    model = pickle.loads(content)\n",
    "    print(model)\n",
    "    \n",
    "\n",
    "# model = pickle.loads(content)\n",
    "# X0_vec = numpy.linspace(-5., 10., 15)\n",
    "# X1_vec = numpy.linspace(0., 15., 15)\n",
    "# X0, X1 = numpy.meshgrid(X0_vec, X1_vec)\n",
    "# b, c, t = 0.12918450914398066, 1.5915494309189535, 0.039788735772973836\n",
    "# u = X1 - b * X0 ** 2 + c * X0 - 6\n",
    "# r = 10. * (1. - t) * numpy.cos(X0) + 10\n",
    "# Z = u ** 2 + r\n",
    "\n",
    "# fig, ax = pyplot.subplots(subplot_kw={\"projection\": \"3d\"})\n",
    "# ax.scatter(X0, X1, model, c=\"r\", label=\"model\")\n",
    "# pyplot.title(\"Data + model\")\n",
    "# pyplot.show() \n",
    "    # temp = str(content, 'utf-8')\n",
    "    # xxx = temp.encode()\n",
    "    # print(xxx)\n",
    "    \n",
    "    # model = pickle.load(f2)\n",
    "    # assert len(model) > 0, \"unpickle result unsuccessful\"\n",
    "    # print(type(model))\n",
    "    # print(f\"model = {model}\")"
   ]
  },
  {
   "cell_type": "code",
   "execution_count": 5,
   "id": "868bdc5c-2eb4-4c97-bb9a-80e318795b5f",
   "metadata": {},
   "outputs": [
    {
     "name": "stdout",
     "output_type": "stream",
     "text": [
      "Executing Transaction\n",
      "Wallet OCEAN = 14999000000000000000\n",
      "Wallet ETH = 10151118560026554\n",
      " \n",
      "Buying Algorithm Datatoken...\n"
     ]
    },
    {
     "name": "stderr",
     "output_type": "stream",
     "text": [
      "INFO:ocean_lib.data_provider.data_service_provider:Service initialized successfully initializeEndpoint https://v4.provider.mumbai.oceanprotocol.com/api/services/initialize\n"
     ]
    },
    {
     "name": "stdout",
     "output_type": "stream",
     "text": [
      "Already bought DT1.\n",
      "Downloading data asset...\n"
     ]
    },
    {
     "name": "stderr",
     "output_type": "stream",
     "text": [
      "INFO:ocean_lib.data_provider.fileinfo_provider:Retrieved asset files successfully FileInfoEndpoint https://v4.provider.mumbai.oceanprotocol.com/api/services/fileinfo from did did:op:7b9bfd273beeeb8008fad99ea56436baaf00244e8c7ddb63ebaec19a9e7fde93 with service id 0\n"
     ]
    },
    {
     "name": "stdout",
     "output_type": "stream",
     "text": [
      "signing message with nonce 3: did:op:7b9bfd273beeeb8008fad99ea56436baaf00244e8c7ddb63ebaec19a9e7fde93, account=0xAb1ed06e6b7281140aE1E7686DCBee693c2e4A00\n"
     ]
    },
    {
     "name": "stderr",
     "output_type": "stream",
     "text": [
      "INFO:ocean_lib.data_provider.base:Saved downloaded file in ./ocean_download/datafile.did:op:7b9bfd273beeeb8008fad99ea56436baaf00244e8c7ddb63ebaec19a9e7fde93,0/file0\n",
      "INFO:ocean_lib.data_provider.data_service_provider:DDO downloaded successfully downloadEndpoint https://v4.provider.mumbai.oceanprotocol.com/api/services/download\n"
     ]
    },
    {
     "ename": "TypeError",
     "evalue": "unsupported operand type(s) for +: 'set' and 'str'",
     "output_type": "error",
     "traceback": [
      "\u001b[0;31m---------------------------------------------------------------------------\u001b[0m",
      "\u001b[0;31mTypeError\u001b[0m                                 Traceback (most recent call last)",
      "Cell \u001b[0;32mIn[5], line 1\u001b[0m\n\u001b[0;32m----> 1\u001b[0m \u001b[43mapp\u001b[49m\u001b[38;5;241;43m.\u001b[39;49m\u001b[43mocean\u001b[49m\u001b[38;5;241;43m.\u001b[39;49m\u001b[43mbuy_at_download\u001b[49m\u001b[43m(\u001b[49m\u001b[38;5;124;43m'\u001b[39;49m\u001b[38;5;124;43mdid:op:7b9bfd273beeeb8008fad99ea56436baaf00244e8c7ddb63ebaec19a9e7fde93\u001b[39;49m\u001b[38;5;124;43m'\u001b[39;49m\u001b[43m)\u001b[49m\n",
      "File \u001b[0;32m~/jupyterlab_extensions/jupyterOcean/ocean_transaction.py:397\u001b[0m, in \u001b[0;36mOceanMarket.buy_at_download\u001b[0;34m(self, did)\u001b[0m\n\u001b[1;32m    395\u001b[0m asset_dir \u001b[38;5;241m=\u001b[39m ocean\u001b[38;5;241m.\u001b[39massets\u001b[38;5;241m.\u001b[39mdownload_asset(ddo, \u001b[38;5;28mself\u001b[39m\u001b[38;5;241m.\u001b[39mwallet, \u001b[38;5;124m'\u001b[39m\u001b[38;5;124m./ocean_download\u001b[39m\u001b[38;5;124m'\u001b[39m, tx\u001b[38;5;241m.\u001b[39mtransactionHash\u001b[38;5;241m.\u001b[39mhex())\n\u001b[1;32m    396\u001b[0m temp \u001b[38;5;241m=\u001b[39m os\u001b[38;5;241m.\u001b[39mpath\u001b[38;5;241m.\u001b[39mjoin(asset_dir, \u001b[38;5;124m\"\u001b[39m\u001b[38;5;124mfile0\u001b[39m\u001b[38;5;124m\"\u001b[39m)\n\u001b[0;32m--> 397\u001b[0m file_path \u001b[38;5;241m=\u001b[39m os\u001b[38;5;241m.\u001b[39mrename(temp, \u001b[43m{\u001b[49m\u001b[43mddo\u001b[49m\u001b[38;5;241;43m.\u001b[39;49m\u001b[43mmetadata\u001b[49m\u001b[38;5;241;43m.\u001b[39;49m\u001b[43mget\u001b[49m\u001b[43m(\u001b[49m\u001b[38;5;124;43m'\u001b[39;49m\u001b[38;5;124;43mname\u001b[39;49m\u001b[38;5;124;43m'\u001b[39;49m\u001b[43m)\u001b[49m\u001b[43m}\u001b[49m\u001b[38;5;241;43m+\u001b[39;49m\u001b[38;5;124;43m\"\u001b[39;49m\u001b[38;5;124;43m.py\u001b[39;49m\u001b[38;5;124;43m\"\u001b[39;49m)\n\u001b[1;32m    398\u001b[0m \u001b[38;5;28mprint\u001b[39m(\u001b[38;5;124mf\u001b[39m\u001b[38;5;124m\"\u001b[39m\u001b[38;5;124mFile downloaded at \u001b[39m\u001b[38;5;124m'\u001b[39m\u001b[38;5;132;01m{\u001b[39;00mfile_path\u001b[38;5;132;01m}\u001b[39;00m\u001b[38;5;124m'\u001b[39m\u001b[38;5;124m\"\u001b[39m)  \u001b[38;5;66;03m# e.g. datafile.0xAf07...\u001b[39;00m\n\u001b[1;32m    399\u001b[0m \u001b[38;5;28mprint\u001b[39m(\u001b[38;5;124m'\u001b[39m\u001b[38;5;124mFinished !!\u001b[39m\u001b[38;5;124m'\u001b[39m)\n",
      "\u001b[0;31mTypeError\u001b[0m: unsupported operand type(s) for +: 'set' and 'str'"
     ]
    }
   ],
   "source": [
    "app.ocean.buy_at_download('did:op:7b9bfd273beeeb8008fad99ea56436baaf00244e8c7ddb63ebaec19a9e7fde93')"
   ]
  },
  {
   "cell_type": "code",
   "execution_count": 8,
   "id": "c53c1aa9-a1a8-4897-8d1c-bb291690dc05",
   "metadata": {
    "tags": []
   },
   "outputs": [],
   "source": [
    "import os"
   ]
  },
  {
   "cell_type": "code",
   "execution_count": 12,
   "id": "9f5f3a9b-d810-4820-ac22-f401cc2e74fe",
   "metadata": {
    "tags": []
   },
   "outputs": [],
   "source": [
    "test = 'xxx'"
   ]
  },
  {
   "cell_type": "code",
   "execution_count": 13,
   "id": "d15fe660-f247-4eaa-8f1d-8714a3c3667a",
   "metadata": {
    "tags": []
   },
   "outputs": [],
   "source": [
    "os.rename('ocean_download/datafile.did:op:7b9bfd273beeeb8008fad99ea56436baaf00244e8c7ddb63ebaec19a9e7fde93,0/file0', f\"{test}\" + \".py\")"
   ]
  },
  {
   "cell_type": "code",
   "execution_count": null,
   "id": "24a5ef13-7de7-4909-8640-ee4776238b6d",
   "metadata": {},
   "outputs": [],
   "source": []
  }
 ],
 "metadata": {
  "kernelspec": {
   "display_name": "Python 3 (ipykernel)",
   "language": "python",
   "name": "python3"
  },
  "language_info": {
   "codemirror_mode": {
    "name": "ipython",
    "version": 3
   },
   "file_extension": ".py",
   "mimetype": "text/x-python",
   "name": "python",
   "nbconvert_exporter": "python",
   "pygments_lexer": "ipython3",
   "version": "3.9.17"
  },
  "toc-showcode": false
 },
 "nbformat": 4,
 "nbformat_minor": 5
}
