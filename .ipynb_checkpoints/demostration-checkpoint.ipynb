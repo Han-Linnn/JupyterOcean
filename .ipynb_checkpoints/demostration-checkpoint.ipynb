{
 "cells": [
  {
   "cell_type": "code",
   "execution_count": 1,
   "id": "f6d77ad4-aec0-4dfe-9b56-c906205d363e",
   "metadata": {},
   "outputs": [
    {
     "name": "stdout",
     "output_type": "stream",
     "text": [
      "Initializing Ocean Config ...\n",
      "Ocean Initialization done.\n"
     ]
    }
   ],
   "source": [
    "from jupyterOcean import JupyterFrontEnd"
   ]
  },
  {
   "cell_type": "code",
   "execution_count": 2,
   "id": "e2a02e92-401b-4bbb-8360-660aacd54579",
   "metadata": {
    "tags": []
   },
   "outputs": [],
   "source": [
    "app = JupyterFrontEnd()"
   ]
  },
  {
   "cell_type": "code",
   "execution_count": 5,
   "id": "5723d012-7771-450c-b3a6-2830d502a545",
   "metadata": {},
   "outputs": [
    {
     "name": "stdout",
     "output_type": "stream",
     "text": [
      "Vitual Wallet Address = '0x0BFED68fAe5a30A32fea678721e7EdE7fEA1686F'\n",
      "Vitual Wallet OCEAN = 20000000000000000000\n",
      "Vitual Wallet ETH = 10000000000000000\n"
     ]
    }
   ],
   "source": [
    "app.ocean.check_wallet()"
   ]
  },
  {
   "cell_type": "code",
   "execution_count": null,
   "id": "45982100-ba59-4246-81ef-edfa4643a716",
   "metadata": {},
   "outputs": [],
   "source": []
  }
 ],
 "metadata": {
  "kernelspec": {
   "display_name": "Python 3 (ipykernel)",
   "language": "python",
   "name": "python3"
  },
  "language_info": {
   "codemirror_mode": {
    "name": "ipython",
    "version": 3
   },
   "file_extension": ".py",
   "mimetype": "text/x-python",
   "name": "python",
   "nbconvert_exporter": "python",
   "pygments_lexer": "ipython3",
   "version": "3.9.17"
  }
 },
 "nbformat": 4,
 "nbformat_minor": 5
}
